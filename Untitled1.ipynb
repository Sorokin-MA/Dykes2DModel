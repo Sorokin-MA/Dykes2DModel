{
 "cells": [
  {
   "cell_type": "code",
   "execution_count": null,
   "id": "57e14334",
   "metadata": {},
   "outputs": [],
   "source": [
    "seed = 123;\n",
    "\n",
    "#sim_dir    = \"..\\Q_0.038_elbrus_chamber_eruption_rh_rh_0.75_0.8_narrow_0.1_part\";\n",
    "sim_dir    = \"..\\\\Q_0.038_elbrus_chamber_eruption_rh_rh_0.75_0.8_narrow_0.1_part\";\n",
    "sim_name   = \"magma_chamber_eruption_rh_rh_particles_generation\";\n",
    "sim_files   = \"magma_chamber_eruption_rh_rh_particles_generation.*\";\n",
    "#sim_driver = mfilename('fullpath');\n",
    "#exe_name   = [sim_name '.exe'];\n",
    "#exe_path   = [sim_dir '/' exe_name];\n",
    "#cu_name    = [sim_name '.cu'];\n",
    "#cu_path    = [sim_dir '/' cu_name];\n",
    "cuda_arch  = \"sm_86\";\n",
    "\n",
    "dev = device()"
   ]
  }
 ],
 "metadata": {
  "kernelspec": {
   "display_name": "Julia 1.9.0",
   "language": "julia",
   "name": "julia-1.9"
  },
  "language_info": {
   "file_extension": ".jl",
   "mimetype": "application/julia",
   "name": "julia",
   "version": "1.9.0"
  }
 },
 "nbformat": 4,
 "nbformat_minor": 5
}
