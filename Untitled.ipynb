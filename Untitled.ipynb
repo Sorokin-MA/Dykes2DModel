{
 "cells": [
  {
   "cell_type": "code",
   "execution_count": null,
   "id": "b61e103b",
   "metadata": {},
   "outputs": [],
   "source": []
  }
 ],
 "metadata": {
  "kernelspec": {
   "display_name": "Julia 1.9.0",
   "language": "julia",
   "name": "julia-1.9"
  }
 },
 "nbformat": 4,
 "nbformat_minor": 5
}
