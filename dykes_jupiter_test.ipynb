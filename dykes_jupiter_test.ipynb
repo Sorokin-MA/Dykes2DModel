{
 "cells": [
  {
   "cell_type": "code",
   "execution_count": null,
   "id": "9bf71266",
   "metadata": {},
   "outputs": [],
   "source": [
    "seed = 123;\n",
    "\n",
    "#sim_dir    = \"..\\Q_0.038_elbrus_chamber_eruption_rh_rh_0.75_0.8_narrow_0.1_part\";\n",
    "sim_dir    = \"..\\\\Q_0.038_elbrus_chamber_eruption_rh_rh_0.75_0.8_narrow_0.1_part\";\n",
    "sim_name   = \"magma_chamber_eruption_rh_rh_particles_generation\";\n",
    "sim_files   = \"magma_chamber_eruption_rh_rh_particles_generation.*\";\n",
    "#sim_driver = mfilename('fullpath');\n",
    "#exe_name   = [sim_name '.exe'];\n",
    "#exe_path   = [sim_dir '/' exe_name];\n",
    "#cu_name    = [sim_name '.cu'];\n",
    "#cu_path    = [sim_dir '/' cu_name];\n",
    "cuda_arch  = \"sm_86\";\n",
    "\n",
    "dev = device()"
   ]
  },
  {
   "cell_type": "code",
   "execution_count": 5,
   "id": "e6268cdf",
   "metadata": {},
   "outputs": [
    {
     "name": "stdout",
     "output_type": "stream",
     "text": [
      "Hi Ted, it's great to see you!\n",
      "Hi Robyn, it's great to see you!\n",
      "Hi Barney, it's great to see you!\n",
      "Hi Lily, it's great to see you!\n",
      "Hi Marshall, it's great to see you!\n"
     ]
    }
   ],
   "source": [
    "myfriends = [\"Ted\", \"Robyn\", \"Barney\", \"Lily\", \"Marshall\"]\n",
    "\n",
    "i = 1\n",
    "while i <= length(myfriends)\n",
    "    friend = myfriends[i]\n",
    "    println(\"Hi $friend, it's great to see you!\")\n",
    "    i += 1\n",
    "end"
   ]
  },
  {
   "cell_type": "code",
   "execution_count": 11,
   "id": "bbe56b12",
   "metadata": {},
   "outputs": [
    {
     "data": {
      "text/plain": [
       "3×3 Matrix{Int64}:\n",
       " 1  4  1\n",
       " 2  1  3\n",
       " 3  4  1"
      ]
     },
     "execution_count": 11,
     "metadata": {},
     "output_type": "execute_result"
    }
   ],
   "source": [
    "A = rand(1:4,3,3)"
   ]
  },
  {
   "cell_type": "code",
   "execution_count": 15,
   "id": "6a192a1e",
   "metadata": {},
   "outputs": [
    {
     "data": {
      "text/plain": [
       "5×5 Matrix{Float64}:\n",
       "  1.37272   -1.71431    1.13692     0.618742   -1.17188\n",
       " -1.71431    3.82888    1.84979    -0.498693   -0.518363\n",
       "  1.13692    1.84979    1.23248    -0.0920428  -0.621145\n",
       "  0.618742  -0.498693  -0.0920428   0.813306   -2.02888\n",
       " -1.17188   -0.518363  -0.621145   -2.02888    -0.290805"
      ]
     },
     "execution_count": 15,
     "metadata": {},
     "output_type": "execute_result"
    }
   ],
   "source": [
    "import Random\n",
    "Random.seed!(1234)\n",
    "dim = 5\n",
    "A = randn(dim,dim)\n",
    "H = (A + A')/sqrt(2)"
   ]
  },
  {
   "cell_type": "code",
   "execution_count": null,
   "id": "d4341e47",
   "metadata": {},
   "outputs": [],
   "source": []
  }
 ],
 "metadata": {
  "kernelspec": {
   "display_name": "Julia 1.9.0",
   "language": "julia",
   "name": "julia-1.9"
  },
  "language_info": {
   "file_extension": ".jl",
   "mimetype": "application/julia",
   "name": "julia",
   "version": "1.9.0"
  }
 },
 "nbformat": 4,
 "nbformat_minor": 5
}
